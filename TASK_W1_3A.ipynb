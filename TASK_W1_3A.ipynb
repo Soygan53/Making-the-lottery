{
  "nbformat": 4,
  "nbformat_minor": 0,
  "metadata": {
    "colab": {
      "provenance": []
    },
    "kernelspec": {
      "name": "python3",
      "display_name": "Python 3"
    },
    "language_info": {
      "name": "python"
    }
  },
  "cells": [
    {
      "cell_type": "code",
      "execution_count": 4,
      "metadata": {
        "colab": {
          "base_uri": "https://localhost:8080/"
        },
        "id": "5tev8MGGbtZu",
        "outputId": "7a210eb7-7d8f-4572-d713-13a4b68995c6"
      },
      "outputs": [
        {
          "output_type": "stream",
          "name": "stdout",
          "text": [
            "[[ 5 37 41  2 16 42]\n",
            " [40 31 20 46 13 30]\n",
            " [27 24 40 23 21 22]\n",
            " [40 39  6 16 12 26]\n",
            " [47 33 13 27 41 18]\n",
            " [ 6 21 13 29 38 32]\n",
            " [40 32 18  1 38 24]\n",
            " [11 13  5 15 43  2]]\n"
          ]
        }
      ],
      "source": [
        "\"\"\"\n",
        "Created on Tuesday Oct 20 19:49:16 2022\n",
        "\n",
        "@author: Ahmet Sina Soykan\n",
        "\"\"\"\n",
        "\n",
        "import numpy as np                                                    #importing numpy library\n",
        "import random                                                         #importing random library\n",
        "\n",
        "for k in range(8):                                                    #creating 8 list named Loto_{k} with random samples (k=0,1,2,3,4,5,6,7)\n",
        "    exec(f'Loto_{k} = random.sample(range(1,49),6)')\n",
        "\n",
        "Array_Loto_0 = np. array(Loto_0)                                      #converting lists to the arrays\n",
        "Array_Loto_1 = np. array(Loto_1)\n",
        "Array_Loto_2 = np. array(Loto_2)\n",
        "Array_Loto_3 = np. array(Loto_3)\n",
        "Array_Loto_4 = np. array(Loto_4)\n",
        "Array_Loto_5 = np. array(Loto_5)\n",
        "Array_Loto_6 = np. array(Loto_6)\n",
        "Array_Loto_7 = np. array(Loto_7)\n",
        "\n",
        "Real_Loto= np.concatenate((Array_Loto_0,Array_Loto_1,Array_Loto_2,    #Concatenate all arrays\n",
        "                           Array_Loto_3,Array_Loto_4,Array_Loto_5,\n",
        "                           Array_Loto_6,Array_Loto_7))\n",
        "\n",
        "Soykan = Real_Loto.reshape(8,6)                                       #Making 8x6 Matris with concatenated arrays\n",
        "print(Soykan)                                                         #Print reshaped array"
      ]
    }
  ]
}