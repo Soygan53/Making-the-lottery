{
  "nbformat": 4,
  "nbformat_minor": 0,
  "metadata": {
    "colab": {
      "provenance": []
    },
    "kernelspec": {
      "name": "python3",
      "display_name": "Python 3"
    },
    "language_info": {
      "name": "python"
    }
  },
  "cells": [
    {
      "cell_type": "code",
      "execution_count": 2,
      "metadata": {
        "colab": {
          "base_uri": "https://localhost:8080/"
        },
        "id": "5tev8MGGbtZu",
        "outputId": "d58564f9-ecd4-4aaa-f647-d091cbd259ac"
      },
      "outputs": [
        {
          "output_type": "stream",
          "name": "stdout",
          "text": [
            "[[16 29 36 10 27 37 23 15]\n",
            " [20 23  7 32 36 16 25 24]\n",
            " [14 43 34 11 23  5 24 30]\n",
            " [21  3 19 38 18 32 36 26]\n",
            " [21 35 17 33  0 12 43 24]\n",
            " [33 30 31 41 36 19 39 29]]\n"
          ]
        }
      ],
      "source": [
        "\"\"\"\n",
        "Created on Tuesday Oct 20 12:10:31 2022\n",
        "\n",
        "@author: Ahmet Sina Soykan\n",
        "\"\"\"\n",
        "\n",
        "import numpy as np                                                    #importing numpy library\n",
        "import random                                                         #importing random library\n",
        "\n",
        "for k in range(6):                                                    #creating 6 list named Loto_{k} with random samples (k=0,1,2,3,4,5)\n",
        "    exec(f'Loto_{k} = random.sample(range(45),8)')\n",
        "\n",
        "Array_Loto_0 = np. array(Loto_0)                                      #converting lists to the arrays\n",
        "Array_Loto_1 = np. array(Loto_1)\n",
        "Array_Loto_2 = np. array(Loto_2)\n",
        "Array_Loto_3 = np. array(Loto_3)\n",
        "Array_Loto_4 = np. array(Loto_4)\n",
        "Array_Loto_5 = np. array(Loto_5)\n",
        "\n",
        "Real_Loto= np.concatenate((Array_Loto_0,Array_Loto_1,Array_Loto_2,    #Concatenate all arrays\n",
        "                           Array_Loto_3,Array_Loto_4,Array_Loto_5))\n",
        "\n",
        "Soykan = Real_Loto.reshape(6,8)                                       #Making 6x8 Matris with concatenated arrays\n",
        "print(Soykan)                                                         #Print reshaped array"
      ]
    }
  ]
}